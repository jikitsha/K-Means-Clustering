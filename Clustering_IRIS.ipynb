{
  "nbformat": 4,
  "nbformat_minor": 0,
  "metadata": {
    "colab": {
      "name": "Clustering_IRIS.ipynb",
      "provenance": [],
      "collapsed_sections": []
    },
    "kernelspec": {
      "name": "python3",
      "display_name": "Python 3"
    },
    "language_info": {
      "name": "python"
    }
  },
  "cells": [
    {
      "cell_type": "code",
      "execution_count": null,
      "metadata": {
        "id": "MmZXoPcxj6xZ"
      },
      "outputs": [],
      "source": [
        "import pandas as pd\n",
        "import numpy as np\n",
        "import matplotlib.pyplot as plt\n",
        "from sklearn import datasets"
      ]
    },
    {
      "cell_type": "markdown",
      "source": [
        "Load the dataset"
      ],
      "metadata": {
        "id": "Kb_kem1dRi1s"
      }
    },
    {
      "cell_type": "code",
      "source": [
        "iris=datasets.load_iris()\n"
      ],
      "metadata": {
        "id": "tF66Or66kQrm"
      },
      "execution_count": null,
      "outputs": []
    },
    {
      "cell_type": "markdown",
      "source": [
        "Create a dataframe by defining sepal length and width in x and y respectively. The type of flower is 0, 1 or 2 which comes from iris.target in \"cluster\""
      ],
      "metadata": {
        "id": "WoovgStpRnw3"
      }
    },
    {
      "cell_type": "code",
      "source": [
        "df=pd.DataFrame({'x': iris.data[:,0], 'y': iris.data[:,1],'cluster':iris.target})"
      ],
      "metadata": {
        "id": "ji8A3oBWkZag"
      },
      "execution_count": null,
      "outputs": []
    },
    {
      "cell_type": "code",
      "source": [
        "df"
      ],
      "metadata": {
        "id": "G5MpbSP_lH1u"
      },
      "execution_count": null,
      "outputs": []
    },
    {
      "cell_type": "markdown",
      "source": [
        "Here we are interested to find 3 clusters so k=3, hence first three centrods are created using \"Mean\" of each x value for same kind of flower. Similarily, mean y is found for all three types of flowers.\n",
        "These x and y are resulting into 3 centroids.\n",
        "Initializing of centroids"
      ],
      "metadata": {
        "id": "B4gqJeYISFqN"
      }
    },
    {
      "cell_type": "code",
      "source": [
        "centroids={}\n",
        "for i in range(3):\n",
        "  result_list=[]\n",
        "  result_list.append(df.loc[df['cluster']==i]['x'].mean())\n",
        "  result_list.append(df.loc[df['cluster']==i]['y'].mean())\n",
        "  \n",
        "  centroids[i]=result_list\n"
      ],
      "metadata": {
        "id": "yRyPXmjClPhs"
      },
      "execution_count": null,
      "outputs": []
    },
    {
      "cell_type": "markdown",
      "source": [
        "Centroids and there plotting on graph"
      ],
      "metadata": {
        "id": "fzlfaGSVSse4"
      }
    },
    {
      "cell_type": "code",
      "source": [
        "centroids"
      ],
      "metadata": {
        "id": "aOetTleemH9G"
      },
      "execution_count": null,
      "outputs": []
    },
    {
      "cell_type": "code",
      "source": [
        "fig=plt.figure(figsize=(5,5))\n",
        "plt.scatter(df['x'], df['y'],c=iris.target, alpha=0.3)\n",
        "#plt.xlabel(\"Sepal length\", fontsize=18)\n",
        "#plt.ylabel(\"Sepal width\", fontsize=18)\n",
        "\n",
        "colmap={0:'r', 1:'g',2:'b'}\n",
        "col=[0,1]\n",
        "\n",
        "for i in centroids.keys():\n",
        "  plt.scatter(centroids[i][0],centroids[i][1], color=colmap[i], edgecolor='k')\n",
        "plt.show()\n"
      ],
      "metadata": {
        "id": "ReXgg2j8mP24"
      },
      "execution_count": null,
      "outputs": []
    },
    {
      "cell_type": "markdown",
      "source": [
        "A method assignment is created to measure, given a point whether it is similar to centrod 0, 1 or 2, based on which that point will be allocated to a cluster.\n",
        "Here, Euclidean distance measure is used to find similarity between point and centroid."
      ],
      "metadata": {
        "id": "ZjxRb4fLSzRi"
      }
    },
    {
      "cell_type": "code",
      "source": [
        "def assignment(df, centroids):\n",
        "  for i in range(3):\n",
        "    df['distance_from_{}'.format(i)]=(np.sqrt((df['x']-centroids[i][0])**2+(df['y']-centroids[i][1])**2))\n",
        "  centroid_distance_cols=['distance_from_{}'.format(i) for i in centroids.keys() ]\n",
        "  df['closest']=df.loc[:,centroid_distance_cols].idxmin(axis=1)\n",
        "  df['closest']= df['closest'].map(lambda x :int (x.lstrip('distance_from_')))\n",
        "  df['color']= df['closest'].map(lambda x: colmap[x])\n",
        "  return df"
      ],
      "metadata": {
        "id": "aJy_FNxLpRHQ"
      },
      "execution_count": null,
      "outputs": []
    },
    {
      "cell_type": "code",
      "source": [
        "df=assignment(df,centroids)\n",
        "\n"
      ],
      "metadata": {
        "id": "Y7Nxtb9Tm4CE"
      },
      "execution_count": null,
      "outputs": []
    },
    {
      "cell_type": "markdown",
      "source": [
        "Using the assignment(), distance of point from each cluster is found and the data frame(which initially had 3 features, now has 5 more features) has in all 8 features. Based on the value of \"distance_from_0\", \"distance_from_1\" and \"distance_from_2\", the point is found closest to any one of the centroid and accordingly flower type is finalized."
      ],
      "metadata": {
        "id": "SiIphRCpTIG8"
      }
    },
    {
      "cell_type": "code",
      "source": [
        "df"
      ],
      "metadata": {
        "id": "gg7LgU_FvcRQ"
      },
      "execution_count": null,
      "outputs": []
    },
    {
      "cell_type": "code",
      "source": [
        "fig=plt.figure(figsize=(5,5))\n",
        "plt.scatter(df['x'], df['y'],color=df['color'], alpha=0.3)\n",
        "\n",
        "\n",
        "for i in centroids.keys():\n",
        "  plt.scatter(*centroids[i], color=colmap[i], edgecolor='k')\n",
        "plt.show()\n"
      ],
      "metadata": {
        "id": "nk3IbkgJvttZ"
      },
      "execution_count": null,
      "outputs": []
    },
    {
      "cell_type": "markdown",
      "source": [
        "It may happen that as soon as the points are allocated, the mean of each cluster may be affected. Hence update() function is created to locate new centroids."
      ],
      "metadata": {
        "id": "0-_4nFloTrPK"
      }
    },
    {
      "cell_type": "code",
      "source": [
        "def update(k):\n",
        "  for i in range(3):\n",
        "    centroids[i][0]=np.mean(df[df['closest']==i]['x'])\n",
        "    centroids[i][1]=np.mean(df[df['closest']==i]['y'])\n",
        "  return k"
      ],
      "metadata": {
        "id": "ZREFlxtDwJyK"
      },
      "execution_count": null,
      "outputs": []
    },
    {
      "cell_type": "code",
      "source": [
        "centroids=update(centroids)\n",
        "centroids"
      ],
      "metadata": {
        "id": "6togJoNfwsGA"
      },
      "execution_count": null,
      "outputs": []
    },
    {
      "cell_type": "markdown",
      "source": [
        "After updating centroids, again the euclidean distance between each point and new centroid is to be calculated. This iterative process stops when no change/update in centroids is found."
      ],
      "metadata": {
        "id": "7uqcDNzjT8k_"
      }
    },
    {
      "cell_type": "code",
      "source": [
        "while True:\n",
        "  closest_centroids=df['closest'].copy(deep=True)\n",
        "  centroids=update(centroids)\n",
        "  df=assignment(df,centroids)\n",
        "  if closest_centroids.equals(df['closest']):\n",
        "    break;\n"
      ],
      "metadata": {
        "id": "BCyj5Mj2xEeV"
      },
      "execution_count": null,
      "outputs": []
    },
    {
      "cell_type": "markdown",
      "source": [
        "Plotting of new centroids"
      ],
      "metadata": {
        "id": "9hmtO7vDUM-l"
      }
    },
    {
      "cell_type": "code",
      "source": [
        "fig=plt.figure(figsize=(5,5))\n",
        "plt.scatter(df['x'], df['y'],color=df['color'], alpha=0.3)\n",
        "\n",
        "\n",
        "for i in centroids.keys():\n",
        "  plt.scatter(*centroids[i], color=colmap[i], edgecolor='k')\n",
        "plt.show()\n"
      ],
      "metadata": {
        "id": "kD7HCj95xpHh"
      },
      "execution_count": null,
      "outputs": []
    },
    {
      "cell_type": "markdown",
      "source": [
        "Instead of writing our own assignment() and update() and their related iterations, just use KMeans of sklearn."
      ],
      "metadata": {
        "id": "-MH-TVoMUQhP"
      }
    },
    {
      "cell_type": "code",
      "source": [
        "from sklearn.cluster import KMeans\n",
        "kmeans=KMeans(n_clusters=3)\n",
        "dfnew=pd.DataFrame({'x': iris.data[:,0], 'y': iris.data[:,1]})\n",
        "kmeans.fit(dfnew)\n"
      ],
      "metadata": {
        "id": "cyR9T9b05SKP"
      },
      "execution_count": null,
      "outputs": []
    },
    {
      "cell_type": "code",
      "source": [
        "labels = kmeans.predict(dfnew)\n",
        "newcentroids = kmeans.cluster_centers_"
      ],
      "metadata": {
        "id": "lsKj2vFG6HWq"
      },
      "execution_count": null,
      "outputs": []
    },
    {
      "cell_type": "code",
      "source": [
        "newcentroids\n"
      ],
      "metadata": {
        "id": "8Hd57h406QnR"
      },
      "execution_count": null,
      "outputs": []
    }
  ]
}